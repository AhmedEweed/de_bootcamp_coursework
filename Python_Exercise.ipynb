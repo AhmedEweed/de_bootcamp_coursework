{
  "nbformat": 4,
  "nbformat_minor": 0,
  "metadata": {
    "colab": {
      "provenance": []
    },
    "kernelspec": {
      "name": "python3",
      "display_name": "Python 3"
    },
    "language_info": {
      "name": "python"
    }
  },
  "cells": [
    {
      "cell_type": "code",
      "execution_count": 20,
      "metadata": {
        "id": "aZA8vfUXL_O8"
      },
      "outputs": [],
      "source": [
        "import os\n",
        "import csv\n",
        "import sqlite3\n",
        "import subprocess as sp\n",
        "os.chdir('../content')"
      ]
    },
    {
      "cell_type": "code",
      "source": [
        "def get_files_list(files, pattern):\n",
        "    ''' This function allows you to get the list of files to ingest '''\n",
        "\n",
        "    files_known = []\n",
        "    for file in files:\n",
        "        if file.startswith(pattern):\n",
        "            files_known.append(file)\n",
        "\n",
        "    return files_known\n",
        "all_files = os.listdir('tennis_atp-master')\n",
        "files_to_process = get_files_list(all_files, 'atp_matches_')\n",
        "os.chdir('tennis_atp-master')\n",
        "atp_matches = []"
      ],
      "metadata": {
        "id": "rHyTWf4ysVYI"
      },
      "execution_count": 22,
      "outputs": []
    },
    {
      "cell_type": "code",
      "source": [
        "for file in files_to_process:\n",
        "    with open(file, 'r') as atp_file:\n",
        "        csv_reader = csv.reader(atp_file)\n",
        "        atp_matches.extend(list(csv_reader))\n",
        "\n",
        "os.chdir('..')\n",
        "new_atp_matches = []\n",
        "\n",
        "for item in atp_matches:\n",
        "    new_atp_matches.append(item[0:9])\n",
        "print('New ATP Matches finished!')\n",
        "\n",
        "with open('all_matches.csv', 'w', newline='') as f:\n",
        "    writer = csv.writer(f)\n",
        "    writer.writerows(new_atp_matches)\n",
        "print('Writer finished!')\n",
        "\n",
        "database = 'tennis_atp.db'\n",
        "conn = sqlite3.connect(database)\n",
        "cur = conn.cursor()\n",
        "cur.execute(\"\"\"CREATE TABLE IF NOT EXISTS atp_matches (tourney_id text, tourney_name text, surface text, draw_size integer,\n",
        "    tourney_level text, tourney_date integer, match_num integer, filename text, time_stamp text)\"\"\")\n",
        "conn.commit()"
      ],
      "metadata": {
        "id": "qccwEnHssV1W",
        "colab": {
          "base_uri": "https://localhost:8080/"
        },
        "outputId": "ce3e2535-1ef5-41aa-9bc5-5e1d4c76b9f3"
      },
      "execution_count": 23,
      "outputs": [
        {
          "output_type": "stream",
          "name": "stdout",
          "text": [
            "New ATP Matches finished!\n",
            "Writer finished!\n"
          ]
        }
      ]
    },
    {
      "cell_type": "code",
      "source": [],
      "metadata": {
        "id": "FDv4XXWhsWGS"
      },
      "execution_count": null,
      "outputs": []
    },
    {
      "cell_type": "code",
      "source": [],
      "metadata": {
        "id": "7MPGKbUjsWS7"
      },
      "execution_count": null,
      "outputs": []
    },
    {
      "cell_type": "code",
      "source": [],
      "metadata": {
        "id": "NILsSKLqsWXc"
      },
      "execution_count": null,
      "outputs": []
    },
    {
      "cell_type": "code",
      "source": [],
      "metadata": {
        "id": "rTrtJJQLsWcG"
      },
      "execution_count": null,
      "outputs": []
    },
    {
      "cell_type": "code",
      "source": [],
      "metadata": {
        "id": "JFNXUGipsWgA"
      },
      "execution_count": null,
      "outputs": []
    },
    {
      "cell_type": "code",
      "source": [],
      "metadata": {
        "id": "-6MQzj3CsWjr"
      },
      "execution_count": null,
      "outputs": []
    }
  ]
}